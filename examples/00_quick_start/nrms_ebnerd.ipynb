{
 "cells": [
  {
   "cell_type": "markdown",
   "metadata": {},
   "source": [
    "# Getting started"
   ]
  },
  {
   "cell_type": "markdown",
   "metadata": {},
   "source": [
    "## Load functionality"
   ]
  },
  {
   "cell_type": "code",
   "execution_count": 1,
   "metadata": {},
   "outputs": [
    {
     "name": "stderr",
     "output_type": "stream",
     "text": [
      "/Users/nicolacecere/opt/anaconda3/envs/recsys2024/lib/python3.11/site-packages/tqdm/auto.py:21: TqdmWarning: IProgress not found. Please update jupyter and ipywidgets. See https://ipywidgets.readthedocs.io/en/stable/user_install.html\n",
      "  from .autonotebook import tqdm as notebook_tqdm\n",
      "2024-04-12 18:05:11.681529: I tensorflow/core/platform/cpu_feature_guard.cc:182] This TensorFlow binary is optimized to use available CPU instructions in performance-critical operations.\n",
      "To enable the following instructions: AVX2 FMA, in other operations, rebuild TensorFlow with the appropriate compiler flags.\n"
     ]
    }
   ],
   "source": [
    "from transformers import AutoTokenizer, AutoModel\n",
    "from pathlib import Path\n",
    "import tensorflow as tf\n",
    "import polars as pl\n",
    "# \n",
    "from ebrec.utils._constants import (\n",
    "    DEFAULT_HISTORY_ARTICLE_ID_COL, \n",
    "    DEFAULT_CLICKED_ARTICLES_COL,\n",
    "    DEFAULT_INVIEW_ARTICLES_COL,\n",
    "    DEFAULT_IMPRESSION_ID_COL,\n",
    "    DEFAULT_SUBTITLE_COL,\n",
    "    DEFAULT_LABELS_COL,\n",
    "    DEFAULT_TITLE_COL, \n",
    "    DEFAULT_USER_COL, \n",
    ")\n",
    "#\n",
    "from ebrec.utils._behaviors import (\n",
    "    create_binary_labels_column, \n",
    "    sampling_strategy_wu2019,\n",
    "    add_known_user_column,\n",
    "    add_prediction_scores,\n",
    "    truncate_history, \n",
    ")\n",
    "from ebrec.utils._articles import convert_text2encoding_with_transformers\n",
    "from ebrec.utils._polars import concat_str_columns, slice_join_dataframes\n",
    "from ebrec.utils._articles import create_article_id_to_value_mapping\n",
    "from ebrec.utils._nlp import get_transformers_word_embeddings\n",
    "#\n",
    "from ebrec.models.newsrec.dataloader import NRMSDataLoader\n",
    "from ebrec.models.newsrec.model_config import hparams_nrms\n",
    "from ebrec.models.newsrec import NRMSModel"
   ]
  },
  {
   "cell_type": "markdown",
   "metadata": {},
   "source": [
    "## Load dataset"
   ]
  },
  {
   "cell_type": "code",
   "execution_count": 2,
   "metadata": {},
   "outputs": [],
   "source": [
    "def ebnerd_from_path(path:Path, history_size:int = 30) -> pl.DataFrame:\n",
    "    \"\"\"\n",
    "    Load ebnerd - function \n",
    "    \"\"\"\n",
    "    df_history = (\n",
    "        pl.scan_parquet(path.joinpath(\"history.parquet\"))\n",
    "        .select(DEFAULT_USER_COL, DEFAULT_HISTORY_ARTICLE_ID_COL)\n",
    "        .pipe(\n",
    "            truncate_history,\n",
    "            column=DEFAULT_HISTORY_ARTICLE_ID_COL,\n",
    "            history_size=history_size,\n",
    "            padding_value=0,\n",
    "        )\n",
    "    )\n",
    "    df_behaviors = (\n",
    "        pl.scan_parquet(path.joinpath(\"behaviors.parquet\"))\n",
    "        .collect()\n",
    "        .pipe(\n",
    "            slice_join_dataframes, df2=df_history.collect(), on=DEFAULT_USER_COL, how=\"left\"\n",
    "        )\n",
    "    )\n",
    "    return df_behaviors"
   ]
  },
  {
   "cell_type": "markdown",
   "metadata": {},
   "source": [
    "### Generate labels\n",
    "We sample a few just to get started. For testset we just make up a dummy column with 0 and 1 - this is not the true labels."
   ]
  },
  {
   "cell_type": "code",
   "execution_count": 42,
   "metadata": {},
   "outputs": [
    {
     "name": "stderr",
     "output_type": "stream",
     "text": [
      "/Users/nicolacecere/opt/anaconda3/envs/recsys2024/lib/python3.11/site-packages/ebrec/utils/_behaviors.py:619: UserWarning: truncate_history: The history IDs expeced in ascending order\n",
      "  warnings.warn(f\"{function_name}: The history IDs expeced in ascending order\")\n"
     ]
    },
    {
     "data": {
      "text/plain": [
       "'\\ndf_test = (\\n    ebnerd_from_path(path.joinpath(\"test\"), history_size=HISTORY_SIZE)\\n    .with_columns(pl.Series(DEFAULT_CLICKED_ARTICLES_COL, [[]]))\\n    .select(COLUMNS)\\n    .pipe(create_binary_labels_column)\\n    .sample(n=N_SAMPLES)\\n)\\n'"
      ]
     },
     "execution_count": 42,
     "metadata": {},
     "output_type": "execute_result"
    }
   ],
   "source": [
    "path = Path(\"../../../data/ebnerd_demo\")\n",
    "COLUMNS = [DEFAULT_USER_COL, DEFAULT_HISTORY_ARTICLE_ID_COL, DEFAULT_INVIEW_ARTICLES_COL, DEFAULT_CLICKED_ARTICLES_COL]\n",
    "HISTORY_SIZE = 30 # to tune\n",
    "#N_SAMPLES = 100\n",
    "df_train = (\n",
    "    ebnerd_from_path(path.joinpath(\"train\"), history_size=HISTORY_SIZE)\n",
    "    .select(COLUMNS)\n",
    "    .pipe(sampling_strategy_wu2019,npratio=4,shuffle=True,with_replacement=True, seed=123)\n",
    "    .pipe(create_binary_labels_column)\n",
    "    #.sample(n=N_SAMPLES)\n",
    ")\n",
    "# =>\n",
    "df_validation = (\n",
    "    ebnerd_from_path(path.joinpath(\"validation\"), history_size=HISTORY_SIZE)\n",
    "    .select(COLUMNS)\n",
    "    .pipe(create_binary_labels_column)\n",
    "    #.sample(n=N_SAMPLES)\n",
    ")\n",
    "# =>\n",
    "'''\n",
    "df_test = (\n",
    "    ebnerd_from_path(path.joinpath(\"test\"), history_size=HISTORY_SIZE)\n",
    "    .with_columns(pl.Series(DEFAULT_CLICKED_ARTICLES_COL, [[]]))\n",
    "    .select(COLUMNS)\n",
    "    .pipe(create_binary_labels_column)\n",
    "    .sample(n=N_SAMPLES)\n",
    ")\n",
    "'''"
   ]
  },
  {
   "cell_type": "code",
   "execution_count": 43,
   "metadata": {},
   "outputs": [
    {
     "data": {
      "text/html": [
       "<div><style>\n",
       ".dataframe > thead > tr,\n",
       ".dataframe > tbody > tr {\n",
       "  text-align: right;\n",
       "  white-space: pre-wrap;\n",
       "}\n",
       "</style>\n",
       "<small>shape: (24_888, 5)</small><table border=\"1\" class=\"dataframe\"><thead><tr><th>user_id</th><th>article_id_fixed</th><th>article_ids_inview</th><th>article_ids_clicked</th><th>labels</th></tr><tr><td>u32</td><td>list[i32]</td><td>list[i64]</td><td>list[i64]</td><td>list[i8]</td></tr></thead><tbody><tr><td>22779</td><td>[9768820, 9767534, … 9770541]</td><td>[9759544, 9775371, … 9774461]</td><td>[9759966]</td><td>[0, 0, … 0]</td></tr><tr><td>150224</td><td>[9767447, 9767739, … 9735909]</td><td>[9777397, 9778661, … 9778657]</td><td>[9778661]</td><td>[0, 1, … 0]</td></tr><tr><td>160892</td><td>[9759345, 9766042, … 9770178]</td><td>[9778155, 9778351, … 9778448]</td><td>[9777856]</td><td>[0, 0, … 0]</td></tr><tr><td>1001055</td><td>[9767220, 9766886, … 9769981]</td><td>[9776808, 9776855, … 9776808]</td><td>[9776566]</td><td>[0, 0, … 0]</td></tr><tr><td>1001055</td><td>[9767220, 9766886, … 9769981]</td><td>[9776553, 9776570, … 9776449]</td><td>[9776553]</td><td>[1, 0, … 0]</td></tr><tr><td>1001055</td><td>[9767220, 9766886, … 9769981]</td><td>[9776551, 9776508, … 9776544]</td><td>[9776508]</td><td>[0, 1, … 0]</td></tr><tr><td>1001055</td><td>[9767220, 9766886, … 9769981]</td><td>[9775985, 9776691, … 9488213]</td><td>[9776691]</td><td>[0, 1, … 0]</td></tr><tr><td>1469458</td><td>[9739411, 6998758, … 9764765]</td><td>[9776929, 9778158, … 7594265]</td><td>[9778158]</td><td>[0, 1, … 0]</td></tr><tr><td>1469458</td><td>[9739411, 6998758, … 9764765]</td><td>[9779227, 9695098, … 9779071]</td><td>[9779071]</td><td>[0, 0, … 1]</td></tr><tr><td>1470585</td><td>[9757428, 9755749, … 9769404]</td><td>[9778945, 9777182, … 9779204]</td><td>[9777182]</td><td>[0, 1, … 0]</td></tr><tr><td>1473460</td><td>[9769135, 9767336, … 9769917]</td><td>[9778645, 9779289, … 9778155]</td><td>[9778645]</td><td>[1, 0, … 0]</td></tr><tr><td>1479813</td><td>[0, 0, … 9769981]</td><td>[9777182, 9775621, … 9661024]</td><td>[9777182]</td><td>[1, 0, … 0]</td></tr><tr><td>&hellip;</td><td>&hellip;</td><td>&hellip;</td><td>&hellip;</td><td>&hellip;</td></tr><tr><td>1158222</td><td>[9766634, 9766635, … 9769469]</td><td>[9774899, 9774764, … 9774923]</td><td>[9774923]</td><td>[0, 0, … 1]</td></tr><tr><td>1158222</td><td>[9766634, 9766635, … 9769469]</td><td>[9774015, 9774864, … 9774404]</td><td>[9774015]</td><td>[1, 0, … 0]</td></tr><tr><td>413278</td><td>[9767233, 9767242, … 9768583]</td><td>[9778731, 9778710, … 9778915]</td><td>[9778813]</td><td>[0, 0, … 0]</td></tr><tr><td>413278</td><td>[9767233, 9767242, … 9768583]</td><td>[9776420, 9776259, … 9778710]</td><td>[9778710]</td><td>[0, 0, … 1]</td></tr><tr><td>438300</td><td>[9768829, 9768820, … 9770594]</td><td>[9778645, 9778645, … 9700511]</td><td>[9696204]</td><td>[0, 0, … 0]</td></tr><tr><td>1748436</td><td>[9768819, 9767642, … 9763284]</td><td>[9775900, 9695098, … 9775939]</td><td>[9775900]</td><td>[1, 0, … 0]</td></tr><tr><td>2046246</td><td>[0, 0, … 9766757]</td><td>[9775347, 9774549, … 9775648]</td><td>[9775347]</td><td>[1, 0, … 0]</td></tr><tr><td>2053999</td><td>[9763489, 9763129, … 9770207]</td><td>[9268227, 9775648, … 9775699]</td><td>[9775562]</td><td>[0, 0, … 0]</td></tr><tr><td>2053999</td><td>[9763489, 9763129, … 9770207]</td><td>[9768866, 8422665, … 9775361]</td><td>[9775361]</td><td>[0, 0, … 1]</td></tr><tr><td>2060487</td><td>[9769518, 9769518, … 9769650]</td><td>[9775325, 9775699, … 9775648]</td><td>[9775699]</td><td>[0, 1, … 0]</td></tr><tr><td>2060487</td><td>[9769518, 9769518, … 9769650]</td><td>[9775716, 9771197, … 9775486]</td><td>[9758424]</td><td>[0, 0, … 0]</td></tr><tr><td>2096611</td><td>[7662811, 9761945, … 9767697]</td><td>[9746428, 9726171, … 9746428]</td><td>[9770369]</td><td>[0, 0, … 0]</td></tr></tbody></table></div>"
      ],
      "text/plain": [
       "shape: (24_888, 5)\n",
       "┌─────────┬──────────────────────┬──────────────────────┬─────────────────────┬─────────────┐\n",
       "│ user_id ┆ article_id_fixed     ┆ article_ids_inview   ┆ article_ids_clicked ┆ labels      │\n",
       "│ ---     ┆ ---                  ┆ ---                  ┆ ---                 ┆ ---         │\n",
       "│ u32     ┆ list[i32]            ┆ list[i64]            ┆ list[i64]           ┆ list[i8]    │\n",
       "╞═════════╪══════════════════════╪══════════════════════╪═════════════════════╪═════════════╡\n",
       "│ 22779   ┆ [9768820, 9767534, … ┆ [9759544, 9775371, … ┆ [9759966]           ┆ [0, 0, … 0] │\n",
       "│         ┆ 9770541]             ┆ 9774461]             ┆                     ┆             │\n",
       "│ 150224  ┆ [9767447, 9767739, … ┆ [9777397, 9778661, … ┆ [9778661]           ┆ [0, 1, … 0] │\n",
       "│         ┆ 9735909]             ┆ 9778657]             ┆                     ┆             │\n",
       "│ 160892  ┆ [9759345, 9766042, … ┆ [9778155, 9778351, … ┆ [9777856]           ┆ [0, 0, … 0] │\n",
       "│         ┆ 9770178]             ┆ 9778448]             ┆                     ┆             │\n",
       "│ 1001055 ┆ [9767220, 9766886, … ┆ [9776808, 9776855, … ┆ [9776566]           ┆ [0, 0, … 0] │\n",
       "│         ┆ 9769981]             ┆ 9776808]             ┆                     ┆             │\n",
       "│ 1001055 ┆ [9767220, 9766886, … ┆ [9776553, 9776570, … ┆ [9776553]           ┆ [1, 0, … 0] │\n",
       "│         ┆ 9769981]             ┆ 9776449]             ┆                     ┆             │\n",
       "│ …       ┆ …                    ┆ …                    ┆ …                   ┆ …           │\n",
       "│ 2053999 ┆ [9763489, 9763129, … ┆ [9268227, 9775648, … ┆ [9775562]           ┆ [0, 0, … 0] │\n",
       "│         ┆ 9770207]             ┆ 9775699]             ┆                     ┆             │\n",
       "│ 2053999 ┆ [9763489, 9763129, … ┆ [9768866, 8422665, … ┆ [9775361]           ┆ [0, 0, … 1] │\n",
       "│         ┆ 9770207]             ┆ 9775361]             ┆                     ┆             │\n",
       "│ 2060487 ┆ [9769518, 9769518, … ┆ [9775325, 9775699, … ┆ [9775699]           ┆ [0, 1, … 0] │\n",
       "│         ┆ 9769650]             ┆ 9775648]             ┆                     ┆             │\n",
       "│ 2060487 ┆ [9769518, 9769518, … ┆ [9775716, 9771197, … ┆ [9758424]           ┆ [0, 0, … 0] │\n",
       "│         ┆ 9769650]             ┆ 9775486]             ┆                     ┆             │\n",
       "│ 2096611 ┆ [7662811, 9761945, … ┆ [9746428, 9726171, … ┆ [9770369]           ┆ [0, 0, … 0] │\n",
       "│         ┆ 9767697]             ┆ 9746428]             ┆                     ┆             │\n",
       "└─────────┴──────────────────────┴──────────────────────┴─────────────────────┴─────────────┘"
      ]
     },
     "execution_count": 43,
     "metadata": {},
     "output_type": "execute_result"
    }
   ],
   "source": [
    "df_train"
   ]
  },
  {
   "cell_type": "markdown",
   "metadata": {},
   "source": [
    "### Look at the difference between Training/Validation and Testset\n",
    "Note, the testset doesn't include labels, and we have remove some of the other columns."
   ]
  },
  {
   "cell_type": "code",
   "execution_count": 15,
   "metadata": {},
   "outputs": [
    {
     "data": {
      "text/html": [
       "<div><style>\n",
       ".dataframe > thead > tr,\n",
       ".dataframe > tbody > tr {\n",
       "  text-align: right;\n",
       "  white-space: pre-wrap;\n",
       "}\n",
       "</style>\n",
       "<small>shape: (2, 5)</small><table border=\"1\" class=\"dataframe\"><thead><tr><th>user_id</th><th>article_id_fixed</th><th>article_ids_inview</th><th>article_ids_clicked</th><th>labels</th></tr><tr><td>u32</td><td>list[i32]</td><td>list[i64]</td><td>list[i64]</td><td>list[i8]</td></tr></thead><tbody><tr><td>900378</td><td>[9769380, 9769356, … 9770726]</td><td>[9770792, 9769762, … 9770886]</td><td>[9768308]</td><td>[0, 0, … 0]</td></tr><tr><td>158641</td><td>[9766805, 9766973, … 9769888]</td><td>[9766772, 9776041, … 9766772]</td><td>[9775915]</td><td>[0, 0, … 0]</td></tr></tbody></table></div>"
      ],
      "text/plain": [
       "shape: (2, 5)\n",
       "┌─────────┬──────────────────────┬──────────────────────┬─────────────────────┬─────────────┐\n",
       "│ user_id ┆ article_id_fixed     ┆ article_ids_inview   ┆ article_ids_clicked ┆ labels      │\n",
       "│ ---     ┆ ---                  ┆ ---                  ┆ ---                 ┆ ---         │\n",
       "│ u32     ┆ list[i32]            ┆ list[i64]            ┆ list[i64]           ┆ list[i8]    │\n",
       "╞═════════╪══════════════════════╪══════════════════════╪═════════════════════╪═════════════╡\n",
       "│ 900378  ┆ [9769380, 9769356, … ┆ [9770792, 9769762, … ┆ [9768308]           ┆ [0, 0, … 0] │\n",
       "│         ┆ 9770726]             ┆ 9770886]             ┆                     ┆             │\n",
       "│ 158641  ┆ [9766805, 9766973, … ┆ [9766772, 9776041, … ┆ [9775915]           ┆ [0, 0, … 0] │\n",
       "│         ┆ 9769888]             ┆ 9766772]             ┆                     ┆             │\n",
       "└─────────┴──────────────────────┴──────────────────────┴─────────────────────┴─────────────┘"
      ]
     },
     "execution_count": 15,
     "metadata": {},
     "output_type": "execute_result"
    }
   ],
   "source": [
    "df_train.head(2)"
   ]
  },
  {
   "cell_type": "markdown",
   "metadata": {},
   "source": [
    "## Load articles"
   ]
  },
  {
   "cell_type": "code",
   "execution_count": 16,
   "metadata": {},
   "outputs": [
    {
     "data": {
      "text/html": [
       "<div><style>\n",
       ".dataframe > thead > tr,\n",
       ".dataframe > tbody > tr {\n",
       "  text-align: right;\n",
       "  white-space: pre-wrap;\n",
       "}\n",
       "</style>\n",
       "<small>shape: (2, 21)</small><table border=\"1\" class=\"dataframe\"><thead><tr><th>article_id</th><th>title</th><th>subtitle</th><th>last_modified_time</th><th>premium</th><th>body</th><th>published_time</th><th>image_ids</th><th>article_type</th><th>url</th><th>ner_clusters</th><th>entity_groups</th><th>topics</th><th>category</th><th>subcategory</th><th>category_str</th><th>total_inviews</th><th>total_pageviews</th><th>total_read_time</th><th>sentiment_score</th><th>sentiment_label</th></tr><tr><td>i32</td><td>str</td><td>str</td><td>datetime[μs]</td><td>bool</td><td>str</td><td>datetime[μs]</td><td>list[i64]</td><td>str</td><td>str</td><td>list[str]</td><td>list[str]</td><td>list[str]</td><td>i16</td><td>list[i16]</td><td>str</td><td>i32</td><td>i32</td><td>f32</td><td>f32</td><td>str</td></tr></thead><tbody><tr><td>3037230</td><td>&quot;Ishockey-spill…</td><td>&quot;ISHOCKEY: Isho…</td><td>2023-06-29 06:20:57</td><td>false</td><td>&quot;Ambitionerne o…</td><td>2003-08-28 08:55:00</td><td>null</td><td>&quot;article_defaul…</td><td>&quot;https://ekstra…</td><td>[]</td><td>[]</td><td>[&quot;Kriminalitet&quot;, &quot;Kendt&quot;, … &quot;Mindre ulykke&quot;]</td><td>142</td><td>[327, 334]</td><td>&quot;sport&quot;</td><td>null</td><td>null</td><td>null</td><td>0.9752</td><td>&quot;Negative&quot;</td></tr><tr><td>3044020</td><td>&quot;Prins Harry tv…</td><td>&quot;Hoffet tvang P…</td><td>2023-06-29 06:21:16</td><td>false</td><td>&quot;Den britiske t…</td><td>2005-06-29 08:47:00</td><td>[3097307, 3097197, 3104927]</td><td>&quot;article_defaul…</td><td>&quot;https://ekstra…</td><td>[&quot;Harry&quot;, &quot;James Hewitt&quot;]</td><td>[&quot;PER&quot;, &quot;PER&quot;]</td><td>[&quot;Kriminalitet&quot;, &quot;Kendt&quot;, … &quot;Personfarlig kriminalitet&quot;]</td><td>414</td><td>[432]</td><td>&quot;underholdning&quot;</td><td>null</td><td>null</td><td>null</td><td>0.7084</td><td>&quot;Negative&quot;</td></tr></tbody></table></div>"
      ],
      "text/plain": [
       "shape: (2, 21)\n",
       "┌───────────┬───────────┬───────────┬───────────┬───┬───────────┬───────────┬───────────┬──────────┐\n",
       "│ article_i ┆ title     ┆ subtitle  ┆ last_modi ┆ … ┆ total_pag ┆ total_rea ┆ sentiment ┆ sentimen │\n",
       "│ d         ┆ ---       ┆ ---       ┆ fied_time ┆   ┆ eviews    ┆ d_time    ┆ _score    ┆ t_label  │\n",
       "│ ---       ┆ str       ┆ str       ┆ ---       ┆   ┆ ---       ┆ ---       ┆ ---       ┆ ---      │\n",
       "│ i32       ┆           ┆           ┆ datetime[ ┆   ┆ i32       ┆ f32       ┆ f32       ┆ str      │\n",
       "│           ┆           ┆           ┆ μs]       ┆   ┆           ┆           ┆           ┆          │\n",
       "╞═══════════╪═══════════╪═══════════╪═══════════╪═══╪═══════════╪═══════════╪═══════════╪══════════╡\n",
       "│ 3037230   ┆ Ishockey- ┆ ISHOCKEY: ┆ 2023-06-2 ┆ … ┆ null      ┆ null      ┆ 0.9752    ┆ Negative │\n",
       "│           ┆ spiller:  ┆ Ishockey- ┆ 9         ┆   ┆           ┆           ┆           ┆          │\n",
       "│           ┆ Jeg       ┆ spilleren ┆ 06:20:57  ┆   ┆           ┆           ┆           ┆          │\n",
       "│           ┆ troede    ┆ Seb…      ┆           ┆   ┆           ┆           ┆           ┆          │\n",
       "│           ┆ jeg…      ┆           ┆           ┆   ┆           ┆           ┆           ┆          │\n",
       "│ 3044020   ┆ Prins     ┆ Hoffet    ┆ 2023-06-2 ┆ … ┆ null      ┆ null      ┆ 0.7084    ┆ Negative │\n",
       "│           ┆ Harry     ┆ tvang     ┆ 9         ┆   ┆           ┆           ┆           ┆          │\n",
       "│           ┆ tvunget   ┆ Prins     ┆ 06:21:16  ┆   ┆           ┆           ┆           ┆          │\n",
       "│           ┆ til       ┆ Harry til ┆           ┆   ┆           ┆           ┆           ┆          │\n",
       "│           ┆ dna-test  ┆ at …      ┆           ┆   ┆           ┆           ┆           ┆          │\n",
       "└───────────┴───────────┴───────────┴───────────┴───┴───────────┴───────────┴───────────┴──────────┘"
      ]
     },
     "execution_count": 16,
     "metadata": {},
     "output_type": "execute_result"
    }
   ],
   "source": [
    "df_articles = pl.read_parquet(path.joinpath(\"articles.parquet\"))\n",
    "df_articles.head(2)"
   ]
  },
  {
   "cell_type": "markdown",
   "metadata": {},
   "source": [
    "## Init model using HuggingFace's tokenizer and wordembedding\n",
    "In the original implementation, they use the GloVe embeddings and tokenizer. To get going fast, we'll use a multilingual LLM from Hugging Face. \n",
    "Utilizing the tokenizer to tokenize the articles and the word-embedding to init NRMS.\n"
   ]
  },
  {
   "cell_type": "markdown",
   "metadata": {},
   "source": [
    "article\\_mapping maps the article id to the title embneddings whose lenght is pre-defined by the parameter. (truncation)"
   ]
  },
  {
   "cell_type": "code",
   "execution_count": 17,
   "metadata": {},
   "outputs": [],
   "source": [
    "TRANSFORMER_MODEL_NAME = \"bert-base-multilingual-cased\"\n",
    "TEXT_COLUMNS_TO_USE = [DEFAULT_SUBTITLE_COL, DEFAULT_TITLE_COL]\n",
    "MAX_TITLE_LENGTH = 30\n",
    "\n",
    "# LOAD HUGGINGFACE:\n",
    "transformer_model = AutoModel.from_pretrained(TRANSFORMER_MODEL_NAME)\n",
    "transformer_tokenizer = AutoTokenizer.from_pretrained(TRANSFORMER_MODEL_NAME)\n",
    "\n",
    "# We'll init the word embeddings using the \n",
    "word2vec_embedding = get_transformers_word_embeddings(transformer_model)\n",
    "# \n",
    "df_articles, cat_cal = concat_str_columns(df_articles, columns=TEXT_COLUMNS_TO_USE)\n",
    "df_articles, token_col_title = convert_text2encoding_with_transformers(\n",
    "    df_articles, transformer_tokenizer, cat_cal, max_length=MAX_TITLE_LENGTH\n",
    ")\n",
    "# =>\n",
    "article_mapping = create_article_id_to_value_mapping(df=df_articles, value_col=token_col_title)"
   ]
  },
  {
   "cell_type": "code",
   "execution_count": 34,
   "metadata": {},
   "outputs": [
    {
     "data": {
      "text/plain": [
       "(30,)"
      ]
     },
     "execution_count": 34,
     "metadata": {},
     "output_type": "execute_result"
    }
   ],
   "source": [
    "df_articles['subtitle-title_encode_bert-base-multilingual-cased'][0].shape"
   ]
  },
  {
   "cell_type": "code",
   "execution_count": 29,
   "metadata": {},
   "outputs": [
    {
     "data": {
      "text/html": [
       "<div><style>\n",
       ".dataframe > thead > tr,\n",
       ".dataframe > tbody > tr {\n",
       "  text-align: right;\n",
       "  white-space: pre-wrap;\n",
       "}\n",
       "</style>\n",
       "<small>shape: (30,)</small><table border=\"1\" class=\"dataframe\"><thead><tr><th></th></tr><tr><td>i64</td></tr></thead><tbody><tr><td>106306</td></tr><tr><td>10172</td></tr><tr><td>177</td></tr><tr><td>156</td></tr><tr><td>118</td></tr><tr><td>15694</td></tr><tr><td>12536</td></tr><tr><td>86008</td></tr><tr><td>119</td></tr><tr><td>68979</td></tr><tr><td>160</td></tr><tr><td>51222</td></tr><tr><td>&hellip;</td></tr><tr><td>59077</td></tr><tr><td>58159</td></tr><tr><td>56950</td></tr><tr><td>10129</td></tr><tr><td>40493</td></tr><tr><td>22278</td></tr><tr><td>13387</td></tr><tr><td>12785</td></tr><tr><td>90598</td></tr><tr><td>10123</td></tr><tr><td>10452</td></tr><tr><td>10979</td></tr></tbody></table></div>"
      ],
      "text/plain": [
       "shape: (30,)\n",
       "Series: '' [i64]\n",
       "[\n",
       "\t106306\n",
       "\t10172\n",
       "\t177\n",
       "\t156\n",
       "\t118\n",
       "\t15694\n",
       "\t12536\n",
       "\t86008\n",
       "\t119\n",
       "\t68979\n",
       "\t160\n",
       "\t51222\n",
       "\t…\n",
       "\t24945\n",
       "\t59077\n",
       "\t58159\n",
       "\t56950\n",
       "\t10129\n",
       "\t40493\n",
       "\t22278\n",
       "\t13387\n",
       "\t12785\n",
       "\t90598\n",
       "\t10123\n",
       "\t10452\n",
       "\t10979\n",
       "]"
      ]
     },
     "execution_count": 29,
     "metadata": {},
     "output_type": "execute_result"
    }
   ],
   "source": [
    "article_mapping[9768308]"
   ]
  },
  {
   "cell_type": "markdown",
   "metadata": {},
   "source": [
    "# Initiate the dataloaders\n",
    "In the implementations we have disconnected the models and data. Hence, you should built a dataloader that fits your needs."
   ]
  },
  {
   "cell_type": "code",
   "execution_count": 35,
   "metadata": {},
   "outputs": [],
   "source": [
    "train_dataloader = NRMSDataLoader(\n",
    "    behaviors=df_train,\n",
    "    article_dict=article_mapping,\n",
    "    unknown_representation=\"zeros\",\n",
    "    history_column=DEFAULT_HISTORY_ARTICLE_ID_COL,\n",
    "    eval_mode=False,\n",
    "    batch_size=64,\n",
    ")\n",
    "val_dataloader = NRMSDataLoader(\n",
    "    behaviors=df_validation,\n",
    "    article_dict=article_mapping,\n",
    "    unknown_representation=\"zeros\",\n",
    "    history_column=DEFAULT_HISTORY_ARTICLE_ID_COL,\n",
    "    eval_mode=True,\n",
    "    batch_size=32,\n",
    ")\n",
    "# test_dataloader = NRMSDataLoader(\n",
    "#     behaviors=df_test,\n",
    "#     article_dict=article_mapping,\n",
    "#     unknown_representation=\"zeros\",\n",
    "#     history_column=DEFAULT_HISTORY_ARTICLE_ID_COL,\n",
    "#     eval_mode=True,\n",
    "#     batch_size=32,\n",
    "# )"
   ]
  },
  {
   "cell_type": "markdown",
   "metadata": {},
   "source": [
    "## Train the model\n"
   ]
  },
  {
   "cell_type": "code",
   "execution_count": 38,
   "metadata": {},
   "outputs": [
    {
     "data": {
      "text/plain": [
       "['nrms_docvec_dummy.py',\n",
       " 'lstur_dummy.py',\n",
       " 'nrms_ebnerd.ipynb',\n",
       " 'npa_dummy.py',\n",
       " 'nrms_dummy.py',\n",
       " 'naml_dummy.py',\n",
       " 'data',\n",
       " 'dataset_ebnerd.ipynb']"
      ]
     },
     "execution_count": 38,
     "metadata": {},
     "output_type": "execute_result"
    }
   ],
   "source": [
    "import os\n",
    "os.listdir()"
   ]
  },
  {
   "cell_type": "code",
   "execution_count": 39,
   "metadata": {},
   "outputs": [
    {
     "name": "stdout",
     "output_type": "stream",
     "text": [
      "2/2 [==============================] - ETA: 0s - loss: 1.6096\n",
      "Epoch 1: val_loss improved from inf to 0.00000, saving model to data/result_experiments/state_dict/NRMS/weights\n",
      "2/2 [==============================] - 208s 202s/step - loss: 1.6096 - val_loss: 0.0000e+00\n"
     ]
    }
   ],
   "source": [
    "MODEL_NAME = \"NRMS\"\n",
    "LOG_DIR = f\"data/result_experiments/log/runs/{MODEL_NAME}\"\n",
    "MODEL_WEIGHTS = f\"data/result_experiments/state_dict/{MODEL_NAME}/weights\"\n",
    "\n",
    "# CALLBACKS\n",
    "tensorboard_callback = tf.keras.callbacks.TensorBoard(log_dir=LOG_DIR, histogram_freq=1)\n",
    "early_stopping = tf.keras.callbacks.EarlyStopping(monitor=\"val_loss\", patience=2)\n",
    "modelcheckpoint = tf.keras.callbacks.ModelCheckpoint(\n",
    "    filepath=MODEL_WEIGHTS, save_best_only=True, save_weights_only=True, verbose=1\n",
    ")\n",
    "\n",
    "hparams_nrms.history_size = HISTORY_SIZE\n",
    "model = NRMSModel(\n",
    "    hparams=hparams_nrms,\n",
    "    word2vec_embedding=word2vec_embedding,\n",
    "    seed=42,\n",
    ")\n",
    "hist = model.model.fit(\n",
    "    train_dataloader,\n",
    "    validation_data=val_dataloader,\n",
    "    epochs=1,\n",
    "    callbacks=[tensorboard_callback, early_stopping, modelcheckpoint],\n",
    ")\n",
    "#model.model.load_weights(filepath=MODEL_WEIGHTS)"
   ]
  },
  {
   "cell_type": "code",
   "execution_count": 41,
   "metadata": {},
   "outputs": [
    {
     "name": "stdout",
     "output_type": "stream",
     "text": [
      "Model: \"model_2\"\n",
      "__________________________________________________________________________________________________\n",
      " Layer (type)                Output Shape                 Param #   Connected to                  \n",
      "==================================================================================================\n",
      " input_7 (InputLayer)        [(None, None, 30)]           0         []                            \n",
      "                                                                                                  \n",
      " input_6 (InputLayer)        [(None, 30, 30)]             0         []                            \n",
      "                                                                                                  \n",
      " time_distributed_3 (TimeDi  (None, None, 400)            9281409   ['input_7[0][0]']             \n",
      " stributed)                                               6                                       \n",
      "                                                                                                  \n",
      " user_encoder (Functional)   (None, 400)                  9337449   ['input_6[0][0]']             \n",
      "                                                          6                                       \n",
      "                                                                                                  \n",
      " dot_2 (Dot)                 (None, None)                 0         ['time_distributed_3[0][0]',  \n",
      "                                                                     'user_encoder[0][0]']        \n",
      "                                                                                                  \n",
      " activation_2 (Activation)   (None, None)                 0         ['dot_2[0][0]']               \n",
      "                                                                                                  \n",
      "==================================================================================================\n",
      "Total params: 93374496 (356.20 MB)\n",
      "Trainable params: 93374496 (356.20 MB)\n",
      "Non-trainable params: 0 (0.00 Byte)\n",
      "__________________________________________________________________________________________________\n"
     ]
    }
   ],
   "source": [
    "model.model.summary()"
   ]
  },
  {
   "cell_type": "markdown",
   "metadata": {},
   "source": [
    "# Example how to compute some metrics:"
   ]
  },
  {
   "cell_type": "code",
   "execution_count": 78,
   "metadata": {},
   "outputs": [
    {
     "name": "stdout",
     "output_type": "stream",
     "text": [
      "4/4 [==============================] - 29s 5s/step\n"
     ]
    }
   ],
   "source": [
    "pred_validation = model.scorer.predict(val_dataloader)"
   ]
  },
  {
   "cell_type": "code",
   "execution_count": 85,
   "metadata": {},
   "outputs": [
    {
     "data": {
      "text/html": [
       "<div><style>\n",
       ".dataframe > thead > tr,\n",
       ".dataframe > tbody > tr {\n",
       "  text-align: right;\n",
       "  white-space: pre-wrap;\n",
       "}\n",
       "</style>\n",
       "<small>shape: (2, 7)</small><table border=\"1\" class=\"dataframe\"><thead><tr><th>user_id</th><th>article_id_fixed</th><th>article_ids_inview</th><th>article_ids_clicked</th><th>labels</th><th>scores</th><th>is_known_user</th></tr><tr><td>u32</td><td>list[i32]</td><td>list[i32]</td><td>list[i32]</td><td>list[i8]</td><td>list[f64]</td><td>bool</td></tr></thead><tbody><tr><td>900378</td><td>[9778842, 9778769, … 9780195]</td><td>[9482970, 9781785, … 9779066]</td><td>[9781785]</td><td>[0, 1, … 0]</td><td>[0.499117, 0.500279, … 0.49903]</td><td>false</td></tr><tr><td>918965</td><td>[9764070, 9761801, … 9777026]</td><td>[9783732, 9533957, … 7184889]</td><td>[9783904]</td><td>[0, 0, … 0]</td><td>[0.500605, 0.499671, … 0.499687]</td><td>false</td></tr></tbody></table></div>"
      ],
      "text/plain": [
       "shape: (2, 7)\n",
       "┌─────────┬──────────────┬──────────────┬──────────────┬─────────────┬──────────────┬──────────────┐\n",
       "│ user_id ┆ article_id_f ┆ article_ids_ ┆ article_ids_ ┆ labels      ┆ scores       ┆ is_known_use │\n",
       "│ ---     ┆ ixed         ┆ inview       ┆ clicked      ┆ ---         ┆ ---          ┆ r            │\n",
       "│ u32     ┆ ---          ┆ ---          ┆ ---          ┆ list[i8]    ┆ list[f64]    ┆ ---          │\n",
       "│         ┆ list[i32]    ┆ list[i32]    ┆ list[i32]    ┆             ┆              ┆ bool         │\n",
       "╞═════════╪══════════════╪══════════════╪══════════════╪═════════════╪══════════════╪══════════════╡\n",
       "│ 900378  ┆ [9778842,    ┆ [9482970,    ┆ [9781785]    ┆ [0, 1, … 0] ┆ [0.499117,   ┆ false        │\n",
       "│         ┆ 9778769, …   ┆ 9781785, …   ┆              ┆             ┆ 0.500279, …  ┆              │\n",
       "│         ┆ 9780195]     ┆ 9779066]     ┆              ┆             ┆ 0.49903]     ┆              │\n",
       "│ 918965  ┆ [9764070,    ┆ [9783732,    ┆ [9783904]    ┆ [0, 0, … 0] ┆ [0.500605,   ┆ false        │\n",
       "│         ┆ 9761801, …   ┆ 9533957, …   ┆              ┆             ┆ 0.499671, …  ┆              │\n",
       "│         ┆ 9777026]     ┆ 7184889]     ┆              ┆             ┆ 0.499687]    ┆              │\n",
       "└─────────┴──────────────┴──────────────┴──────────────┴─────────────┴──────────────┴──────────────┘"
      ]
     },
     "execution_count": 85,
     "metadata": {},
     "output_type": "execute_result"
    }
   ],
   "source": [
    "df_validation = add_prediction_scores(df_validation, pred_validation.tolist()).pipe(\n",
    "    add_known_user_column, known_users=df_train[DEFAULT_USER_COL]\n",
    ")\n",
    "df_validation.head(2)"
   ]
  },
  {
   "cell_type": "code",
   "execution_count": 93,
   "metadata": {},
   "outputs": [
    {
     "data": {
      "text/plain": [
       "<MetricEvaluator class>: \n",
       " {\n",
       "    \"auc\": 0.49090675999255273,\n",
       "    \"mrr\": 0.3155876682685506,\n",
       "    \"ndcg@5\": 0.3357636766751604,\n",
       "    \"ndcg@10\": 0.4161786339827512\n",
       "}"
      ]
     },
     "execution_count": 93,
     "metadata": {},
     "output_type": "execute_result"
    }
   ],
   "source": [
    "from ebrec.evaluation import MetricEvaluator, AucScore, NdcgScore, MrrScore\n",
    "metrics = MetricEvaluator(\n",
    "    labels=df_validation[\"labels\"].to_list(),\n",
    "    predictions=df_validation[\"scores\"].to_list(),\n",
    "    metric_functions=[AucScore(), MrrScore(),  NdcgScore(k=5),  NdcgScore(k=10)],\n",
    ")\n",
    "metrics.evaluate()"
   ]
  },
  {
   "cell_type": "markdown",
   "metadata": {},
   "source": [
    "## Make submission file"
   ]
  },
  {
   "cell_type": "code",
   "execution_count": null,
   "metadata": {},
   "outputs": [],
   "source": [
    "pred_test = model.scorer.predict(test_dataloader)"
   ]
  },
  {
   "cell_type": "code",
   "execution_count": 94,
   "metadata": {},
   "outputs": [
    {
     "data": {
      "text/plain": [
       "array([[0.5000621 ],\n",
       "       [0.49848208],\n",
       "       [0.49827188],\n",
       "       ...,\n",
       "       [0.5002804 ],\n",
       "       [0.4998887 ],\n",
       "       [0.49926934]], dtype=float32)"
      ]
     },
     "execution_count": 94,
     "metadata": {},
     "output_type": "execute_result"
    }
   ],
   "source": []
  },
  {
   "cell_type": "code",
   "execution_count": null,
   "metadata": {},
   "outputs": [],
   "source": []
  }
 ],
 "metadata": {
  "kernelspec": {
   "display_name": "Python 3",
   "language": "python",
   "name": "python3"
  },
  "language_info": {
   "codemirror_mode": {
    "name": "ipython",
    "version": 3
   },
   "file_extension": ".py",
   "mimetype": "text/x-python",
   "name": "python",
   "nbconvert_exporter": "python",
   "pygments_lexer": "ipython3",
   "version": "3.11.8"
  }
 },
 "nbformat": 4,
 "nbformat_minor": 2
}
